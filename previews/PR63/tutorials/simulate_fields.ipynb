{
 "cells": [
  {
   "cell_type": "markdown",
   "source": [
    "# Simulate Fields"
   ],
   "metadata": {}
  },
  {
   "cell_type": "markdown",
   "source": [
    "To obtain JSONs for all LEGEND detectors you can clone the repository `legend-detectors`. The JSONs can be found under `germanium/diodes`. You may also create your custom detector JSON file as long as it follows the LEGEND detector metadata format (see README in `diodes/`).\n",
    "\n",
    "Here we will use public example JSONs from `LegendTestData`"
   ],
   "metadata": {}
  },
  {
   "outputs": [],
   "cell_type": "code",
   "source": [
    "using LegendGeSim\n",
    "using Plots"
   ],
   "metadata": {},
   "execution_count": null
  },
  {
   "cell_type": "markdown",
   "source": [
    "## Get detector metadata JSON from `legend-test-data`"
   ],
   "metadata": {}
  },
  {
   "outputs": [],
   "cell_type": "code",
   "source": [
    "using LegendTestData"
   ],
   "metadata": {},
   "execution_count": null
  },
  {
   "outputs": [],
   "cell_type": "code",
   "source": [
    "germanium_testdata_path = joinpath(legend_test_data_path(), \"data\", \"legend\", \"metadata\", \"hardware\", \"detectors\", \"germanium\")\n",
    "\n",
    "detector_name = \"V99000A\"\n",
    "detector_metadata_filename = joinpath(germanium_testdata_path, \"diodes\", detector_name*\".json\");"
   ],
   "metadata": {},
   "execution_count": null
  },
  {
   "cell_type": "markdown",
   "source": [
    "Alternatively, enter your own path to a real LEGEND detector JSON (see manual on Field Simulation for more details)\n",
    "\n",
    "```julia\n",
    "detector_metadata_filename = \"path/to/V04545A.json\"\n",
    "```"
   ],
   "metadata": {}
  },
  {
   "cell_type": "markdown",
   "source": [
    "## Settings"
   ],
   "metadata": {}
  },
  {
   "cell_type": "markdown",
   "source": [
    "See manual on Field Simulation for a detailed explanation of environment and simulation settings"
   ],
   "metadata": {}
  },
  {
   "outputs": [],
   "cell_type": "code",
   "source": [
    "environment_settings = Dict(\n",
    "    \"crystal_temperature_in_K\" => 77,\n",
    "    \"medium\" => \"vacuum\",\n",
    "    \"dl\" => \"vendor\" # optional, default 0\n",
    ");"
   ],
   "metadata": {},
   "execution_count": null
  },
  {
   "outputs": [],
   "cell_type": "code",
   "source": [
    "simulation_settings = Dict(\n",
    "    \"method\" => \"SSD\",\n",
    "    \"cached_name\" => \"\", # a non-empty string will cache the simulation results\n",
    "    \"crystal_metadata_path\" => joinpath(germanium_testdata_path, \"crystals\")\n",
    ");"
   ],
   "metadata": {},
   "execution_count": null
  },
  {
   "cell_type": "markdown",
   "source": [
    "## Simulation with `SolidStateDetectors`"
   ],
   "metadata": {}
  },
  {
   "outputs": [],
   "cell_type": "code",
   "source": [
    "sim_ssd = LegendGeSim.simulate_fields(detector_metadata_filename, environment_settings, simulation_settings; overwrite=true)"
   ],
   "metadata": {},
   "execution_count": null
  },
  {
   "cell_type": "markdown",
   "source": [
    "The output of `simulate_fields()` in case of SSD will be a `SolidStateDetector` object.\n",
    "\n",
    "Below are some examples of what you can do with it"
   ],
   "metadata": {}
  },
  {
   "outputs": [],
   "cell_type": "code",
   "source": [
    "LegendGeSim.capacitance_matrix(sim_ssd)"
   ],
   "metadata": {},
   "execution_count": null
  },
  {
   "cell_type": "markdown",
   "source": [
    "Using built-in `SolidStateDetectors.jl` functionality"
   ],
   "metadata": {}
  },
  {
   "outputs": [],
   "cell_type": "code",
   "source": [
    "using LegendGeSim: SolidStateDetectors as SSD"
   ],
   "metadata": {},
   "execution_count": null
  },
  {
   "outputs": [],
   "cell_type": "code",
   "source": [
    "SSD.is_depleted(sim_ssd.point_types)"
   ],
   "metadata": {},
   "execution_count": null
  },
  {
   "outputs": [],
   "cell_type": "code",
   "source": [
    "SSD.estimate_depletion_voltage(sim_ssd)"
   ],
   "metadata": {},
   "execution_count": null
  },
  {
   "outputs": [],
   "cell_type": "code",
   "source": [
    "plot(\n",
    "    plot(sim_ssd.point_types, full_det = true),\n",
    "    plot(sim_ssd.electric_potential, full_det = true),\n",
    "    plot(sim_ssd.weighting_potentials[1], full_det = true),\n",
    "    plot(sim_ssd.weighting_potentials[2], full_det = true),\n",
    "    begin\n",
    "        plot(sim_ssd.electric_field, full_det = true)\n",
    "        SSD.plot_electric_fieldlines!(sim_ssd, full_det = true)\n",
    "    end,\n",
    "    size = (1000, 800), layout = (3, 2)\n",
    ")"
   ],
   "metadata": {},
   "execution_count": null
  },
  {
   "cell_type": "markdown",
   "source": [
    "Consult `SolidStateDetectors.jl` tutorials for more operations on the `SolidStateDetector` object"
   ],
   "metadata": {}
  },
  {
   "cell_type": "markdown",
   "source": [
    "## Simulation with `Fieldgen`"
   ],
   "metadata": {}
  },
  {
   "cell_type": "markdown",
   "source": [
    "The same simulation settings can be used for siggen, changing only the `\"method\"` settings to `\"siggen\"` (or `\"fieldgen\"`) and loading the `MJDSigGen` package."
   ],
   "metadata": {}
  },
  {
   "outputs": [],
   "cell_type": "code",
   "source": [
    "using MJDSigGen\n",
    "simulation_settings_siggen = deepcopy(simulation_settings)\n",
    "simulation_settings_siggen[\"method\"] = \"fieldgen\""
   ],
   "metadata": {},
   "execution_count": null
  },
  {
   "cell_type": "markdown",
   "source": [
    "The same function `simulate_fields` is used with identical inputs as in case of `SSD`."
   ],
   "metadata": {}
  },
  {
   "outputs": [],
   "cell_type": "code",
   "source": [
    "sim_fieldgen = LegendGeSim.simulate_fields(detector_metadata_filename, environment_settings, simulation_settings_siggen; overwrite=true)"
   ],
   "metadata": {},
   "execution_count": null
  },
  {
   "cell_type": "markdown",
   "source": [
    "The output of `simulate_fields()` in case of Fieldgen will be a `SigGenSetup` object from `MJDSigGen.jl`."
   ],
   "metadata": {}
  },
  {
   "cell_type": "markdown",
   "source": [
    "The same function as in the SSD example can be used to obtain fieldgen simulated capacitance matrix"
   ],
   "metadata": {}
  },
  {
   "outputs": [],
   "cell_type": "code",
   "source": [
    "LegendGeSim.capacitance_matrix(sim_fieldgen)"
   ],
   "metadata": {},
   "execution_count": null
  },
  {
   "cell_type": "markdown",
   "source": [
    "### Alternative"
   ],
   "metadata": {}
  },
  {
   "cell_type": "markdown",
   "source": [
    "Alternative input using an already existing `impurity_profile` and `offset_in_mm` as input fields"
   ],
   "metadata": {}
  },
  {
   "outputs": [],
   "cell_type": "code",
   "source": [
    "simulation_settings_siggen1 = Dict(\n",
    "    \"method\" => \"fieldgen\",\n",
    "    \"cached_name\" => \"\", # a non-empty string will cache the simulation result\n",
    "    \"impurity_profile\" => \"cache/V99000.dat\",\n",
    "    \"offset_in_mm\" => 0\n",
    ");"
   ],
   "metadata": {},
   "execution_count": null
  },
  {
   "outputs": [],
   "cell_type": "code",
   "source": [
    "sim_fieldgen = LegendGeSim.simulate_fields(detector_metadata_filename, environment_settings, simulation_settings_siggen1; overwrite=true)"
   ],
   "metadata": {},
   "execution_count": null
  },
  {
   "cell_type": "markdown",
   "source": [
    "## Compare `SSD` to `Fieldgen`"
   ],
   "metadata": {}
  },
  {
   "cell_type": "markdown",
   "source": [
    "We can construct wlectric and weighting potential based on Fieldgen results in the same format as SSD"
   ],
   "metadata": {}
  },
  {
   "outputs": [],
   "cell_type": "code",
   "source": [
    "e_pot = SSD.ElectricPotential(sim_fieldgen);\n",
    "w_pot = SSD.WeightingPotential(sim_fieldgen);"
   ],
   "metadata": {},
   "execution_count": null
  },
  {
   "cell_type": "markdown",
   "source": [
    "ToDo: same units for SSD and fieldgen"
   ],
   "metadata": {}
  },
  {
   "outputs": [],
   "cell_type": "code",
   "source": [
    "plot(\n",
    "    plot(sim_ssd.electric_potential, full_det = true, title = \"Electric potential via SSD\"),\n",
    "    plot(e_pot, full_det = true, title = \"Electric potential via Fieldgen\"),\n",
    "    size = (1000, 500), layout = (1, 2)\n",
    ")\n",
    "\n",
    "\n",
    "plot(\n",
    "    plot(sim_ssd.weighting_potentials[1], full_det = true, title = \"Weighting potential via SSD\"),\n",
    "    plot(w_pot, full_det = true, title = \"Weighting potential via fieldgen\"),\n",
    "    size = (1000, 500), layout = (1, 2)\n",
    ")"
   ],
   "metadata": {},
   "execution_count": null
  },
  {
   "cell_type": "markdown",
   "source": [
    "---\n",
    "\n",
    "*This notebook was generated using [Literate.jl](https://github.com/fredrikekre/Literate.jl).*"
   ],
   "metadata": {}
  }
 ],
 "nbformat_minor": 3,
 "metadata": {
  "language_info": {
   "file_extension": ".jl",
   "mimetype": "application/julia",
   "name": "julia",
   "version": "1.11.1"
  },
  "kernelspec": {
   "name": "julia-1.11",
   "display_name": "Julia 1.11.1",
   "language": "julia"
  }
 },
 "nbformat": 4
}
