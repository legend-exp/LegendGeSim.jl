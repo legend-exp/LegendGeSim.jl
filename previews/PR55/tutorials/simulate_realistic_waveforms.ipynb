{
 "cells": [
  {
   "cell_type": "markdown",
   "source": [
    "# Simulate realistic waveforms"
   ],
   "metadata": {}
  },
  {
   "cell_type": "markdown",
   "source": [
    "Here we will use an example `pet` file `csv` format from `LegendTestData` corresponding to the Public Inverted Coax."
   ],
   "metadata": {}
  },
  {
   "outputs": [],
   "cell_type": "code",
   "source": [
    "using LegendGeSim\n",
    "using Plots"
   ],
   "metadata": {},
   "execution_count": null
  },
  {
   "cell_type": "markdown",
   "source": [
    "## Get inputs from `legend-test-data`"
   ],
   "metadata": {}
  },
  {
   "outputs": [],
   "cell_type": "code",
   "source": [
    "using LegendTestData"
   ],
   "metadata": {},
   "execution_count": null
  },
  {
   "cell_type": "markdown",
   "source": [
    "### Detector metadata"
   ],
   "metadata": {}
  },
  {
   "outputs": [],
   "cell_type": "code",
   "source": [
    "ldsim_path = joinpath(legend_test_data_path(), \"data\", \"ldsim\")\n",
    "\n",
    "detector_name = \"invcoax-metadata\"\n",
    "detector_metadata_filename = joinpath(ldsim_path, detector_name*\".json\");"
   ],
   "metadata": {},
   "execution_count": null
  },
  {
   "cell_type": "markdown",
   "source": [
    "Alternatively, enter your own path to a real LEGEND detector JSON"
   ],
   "metadata": {}
  },
  {
   "cell_type": "markdown",
   "source": [
    "```julia\n",
    "detector_metadata_filename = \"path/to/V04545A.json\"\n",
    "```"
   ],
   "metadata": {}
  },
  {
   "cell_type": "markdown",
   "source": [
    "### PET input file"
   ],
   "metadata": {}
  },
  {
   "outputs": [],
   "cell_type": "code",
   "source": [
    "path_to_pet_file = joinpath(ldsim_path, \"single-invcoax-th228-geant4.csv\");"
   ],
   "metadata": {},
   "execution_count": null
  },
  {
   "cell_type": "markdown",
   "source": [
    "## Settings"
   ],
   "metadata": {}
  },
  {
   "cell_type": "markdown",
   "source": [
    "See manual on Field Simulation and Ideal Pulse Simulation for a detailed explanation of environment and simulation settings, as well as the noise model settings"
   ],
   "metadata": {}
  },
  {
   "outputs": [],
   "cell_type": "code",
   "source": [
    "environment_settings = Dict(\n",
    "    \"crystal_temperature_in_K\" => 77,\n",
    "    \"medium\" => \"vacuum\",\n",
    ");"
   ],
   "metadata": {},
   "execution_count": null
  },
  {
   "cell_type": "markdown",
   "source": [
    "simple settings for point charge simulation with dummy constant impurity"
   ],
   "metadata": {}
  },
  {
   "outputs": [],
   "cell_type": "code",
   "source": [
    "simulation_settings = Dict(\n",
    "    \"method\" => \"SSD\",\n",
    "    \"cached_name\" => \"\", # a non-empty string will cache the simulation results\n",
    ");"
   ],
   "metadata": {},
   "execution_count": null
  },
  {
   "outputs": [],
   "cell_type": "code",
   "source": [
    "daq_settings = Dict(\n",
    "    \"preamp\" => Dict(\n",
    "        \"type\" => \"generic\",\n",
    "        \"t_decay_in_us\" => 43, # from V04545A HADES data\n",
    "        \"t_rise_in_ns\" => 100, # by eye\n",
    "        \"gain_ADC_eV\" => 0.0138, # by eye from V04545A HADES data FEP @ 36100 ADC\n",
    "        \"offset_in_ADC\" => 11900, # from V04545A HADES data mean() of baseline\n",
    "        \"noise_sigma_in_keV\" => 2 # by eye\n",
    "    ),\n",
    "    \"fadc\" => Dict(\n",
    "        \"type\" => \"generic\",\n",
    "        \"sampling_interval\" => 16 # ns, from HADES data\n",
    "    ),\n",
    "    \"trigger\" => Dict(\n",
    "        \"type\" => \"trapezoidal\",\n",
    "        \"window_lengths\" => [250,250,250],\n",
    "        \"threshold\" => 9 # keV\n",
    "    ),\n",
    "    \"daq\" => Dict(\n",
    "        \"type\" => \"generic\",\n",
    "        \"nsamples\" => 3748, # from HADES data\n",
    "        \"baseline_length\" => 1770 # by eye from data\n",
    "    )\n",
    ");"
   ],
   "metadata": {},
   "execution_count": null
  },
  {
   "outputs": [],
   "cell_type": "code",
   "source": [
    "noise_model = Dict(\n",
    "    \"type\" => \"sim\"\n",
    ");"
   ],
   "metadata": {},
   "execution_count": null
  },
  {
   "cell_type": "markdown",
   "source": [
    "## Simulate from scratch (`pet` -> `raw`)"
   ],
   "metadata": {}
  },
  {
   "outputs": [],
   "cell_type": "code",
   "source": [
    "raw_table = LegendGeSim.simulate_raw(detector_metadata_filename, path_to_pet_file, environment_settings, simulation_settings, daq_settings, noise_model; n_waveforms=10)"
   ],
   "metadata": {},
   "execution_count": null
  },
  {
   "outputs": [],
   "cell_type": "code",
   "source": [
    "plot(raw_table.waveform)"
   ],
   "metadata": {},
   "execution_count": null
  },
  {
   "cell_type": "markdown",
   "source": [
    "The file contains double the amount of waveforms (20) compared to what we asked to simulate (`n_waveforms = 10`). That's because at the pulse simulation level, n+ contact pulses are kept as well. The first 10 entries are p+ contact waveforms."
   ],
   "metadata": {}
  },
  {
   "outputs": [],
   "cell_type": "code",
   "source": [
    "length(raw_table)"
   ],
   "metadata": {},
   "execution_count": null
  },
  {
   "outputs": [],
   "cell_type": "code",
   "source": [
    "plot(raw_table.waveform[1:10], legend=false, title=\"only p+ contact waveforms\")"
   ],
   "metadata": {},
   "execution_count": null
  },
  {
   "cell_type": "markdown",
   "source": [
    "You can save simulated waveforms in a file that can be used later"
   ],
   "metadata": {}
  },
  {
   "outputs": [],
   "cell_type": "code",
   "source": [
    "using HDF5\n",
    "using LegendHDF5IO"
   ],
   "metadata": {},
   "execution_count": null
  },
  {
   "outputs": [],
   "cell_type": "code",
   "source": [
    "raw_name = \"cache/test_100wfs_raw.hdf5\"\n",
    "h5open(raw_name, \"w\") do f\n",
    "    LegendHDF5IO.writedata(f, \"raw\", raw_table[1:10])\n",
    "end"
   ],
   "metadata": {},
   "execution_count": null
  },
  {
   "cell_type": "markdown",
   "source": [
    "## Simulate from `pss` table in code"
   ],
   "metadata": {}
  },
  {
   "cell_type": "markdown",
   "source": [
    "Rather that simulating from scratch pet->raw, you may also input an already ready pss table with ideal pulses, and simulate only the pss->raw step, i.e. the DAQ chain simulation"
   ],
   "metadata": {}
  },
  {
   "outputs": [],
   "cell_type": "code",
   "source": [
    "pss_table, pss_truth = LegendGeSim.simulate_pulses(detector_metadata_filename, path_to_pet_file, environment_settings, simulation_settings, noise_model; n_waveforms=10);"
   ],
   "metadata": {},
   "execution_count": null
  },
  {
   "outputs": [],
   "cell_type": "code",
   "source": [
    "plot(pss_table.waveform[1:10])"
   ],
   "metadata": {},
   "execution_count": null
  },
  {
   "outputs": [],
   "cell_type": "code",
   "source": [
    "raw_table1 = LegendGeSim.pss_to_raw(pss_table, pss_truth, daq_settings, noise_model)"
   ],
   "metadata": {},
   "execution_count": null
  },
  {
   "outputs": [],
   "cell_type": "code",
   "source": [
    "plot(\n",
    "    plot(pss_table.waveform[1:10]),\n",
    "    plot(raw_table1.waveform[1:10]),\n",
    "    size=(800,400)\n",
    ")"
   ],
   "metadata": {},
   "execution_count": null
  },
  {
   "cell_type": "markdown",
   "source": [
    "Save the pss file for the next section"
   ],
   "metadata": {}
  },
  {
   "outputs": [],
   "cell_type": "code",
   "source": [
    "using LegendHDF5IO\n",
    "using HDF5"
   ],
   "metadata": {},
   "execution_count": null
  },
  {
   "outputs": [],
   "cell_type": "code",
   "source": [
    "pss_name = \"cache/test_100wfs_pss.hdf5\"\n",
    "h5open(pss_name, \"w\") do f\n",
    "    LegendHDF5IO.writedata(f, \"pss/pss\", pss_table[1:10])\n",
    "    LegendHDF5IO.writedata(f, \"pss/truth\", pss_truth[1:10])\n",
    "end"
   ],
   "metadata": {},
   "execution_count": null
  },
  {
   "cell_type": "markdown",
   "source": [
    "## Simulate from pre-saved `pss` hdf5 file"
   ],
   "metadata": {}
  },
  {
   "cell_type": "markdown",
   "source": [
    "Rather than simulating form scratch pet->raw, you may input the name of a pre-saved pss file containing pss and pss truth information"
   ],
   "metadata": {}
  },
  {
   "outputs": [],
   "cell_type": "code",
   "source": [
    "raw_table2 = LegendGeSim.pss_to_raw(pss_name, daq_settings, noise_model)"
   ],
   "metadata": {},
   "execution_count": null
  },
  {
   "cell_type": "markdown",
   "source": [
    "---\n",
    "\n",
    "*This notebook was generated using [Literate.jl](https://github.com/fredrikekre/Literate.jl).*"
   ],
   "metadata": {}
  }
 ],
 "nbformat_minor": 3,
 "metadata": {
  "language_info": {
   "file_extension": ".jl",
   "mimetype": "application/julia",
   "name": "julia",
   "version": "1.9.3"
  },
  "kernelspec": {
   "name": "julia-1.9",
   "display_name": "Julia 1.9.3",
   "language": "julia"
  }
 },
 "nbformat": 4
}
