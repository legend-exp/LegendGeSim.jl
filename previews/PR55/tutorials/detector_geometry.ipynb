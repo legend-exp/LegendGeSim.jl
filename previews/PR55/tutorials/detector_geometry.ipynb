{
 "cells": [
  {
   "cell_type": "markdown",
   "source": [
    "# Visualize Detector Geometry"
   ],
   "metadata": {}
  },
  {
   "cell_type": "markdown",
   "source": [
    "As input you should provide the path to a LEGEND detector metadata JSON file e.g."
   ],
   "metadata": {}
  },
  {
   "cell_type": "markdown",
   "source": [
    "```julia\n",
    "detector_metadata_filename = \"path/to/V04545A.json\"\n",
    "```"
   ],
   "metadata": {}
  },
  {
   "cell_type": "markdown",
   "source": [
    "To obtain JSONs for all LEGEND detectors you can clone the repository `legend-detectors`. The JSONs can be found under `germanium/diodes`. You may also create your custom detector JSON file as long as it follows the LEGEND detector metadata format (see README in `diodes/`)."
   ],
   "metadata": {}
  },
  {
   "cell_type": "markdown",
   "source": [
    "Here we will use a Public Inverted Coax example JSON from `LegendTestData`"
   ],
   "metadata": {}
  },
  {
   "outputs": [],
   "cell_type": "code",
   "source": [
    "# Get detector metadata JSON from `legend-test-data`\n",
    "\n",
    "using LegendTestData\n",
    "\n",
    "ldsim_path = joinpath(legend_test_data_path(), \"data\", \"ldsim\")\n",
    "\n",
    "detector_name = \"invcoax-metadata\"\n",
    "detector_metadata_filename = joinpath(ldsim_path, detector_name*\".json\");"
   ],
   "metadata": {},
   "execution_count": null
  },
  {
   "cell_type": "markdown",
   "source": [
    "## View geometry"
   ],
   "metadata": {}
  },
  {
   "outputs": [],
   "cell_type": "code",
   "source": [
    "using LegendGeSim\n",
    "using Plots"
   ],
   "metadata": {},
   "execution_count": null
  },
  {
   "cell_type": "markdown",
   "source": [
    "The function `LEGEND_SolidStateDetector` will create an \"empty\" `SolidStateDetector` object from `SolidStateDetectors.jl` only for the purpose of viewing geometry.\n",
    "You will see information such as bias voltage, but that is irrelevant at this stage, and the fields are not simulated at this point."
   ],
   "metadata": {}
  },
  {
   "outputs": [],
   "cell_type": "code",
   "source": [
    "detector = LegendGeSim.LEGEND_SolidStateDetector(detector_metadata_filename)\n",
    "\n",
    "plot(detector, aspect_ratio=1.0, camera=(20,20), size=(450,450), title=detector_name)"
   ],
   "metadata": {},
   "execution_count": null
  },
  {
   "cell_type": "markdown",
   "source": [
    "---\n",
    "\n",
    "*This notebook was generated using [Literate.jl](https://github.com/fredrikekre/Literate.jl).*"
   ],
   "metadata": {}
  }
 ],
 "nbformat_minor": 3,
 "metadata": {
  "language_info": {
   "file_extension": ".jl",
   "mimetype": "application/julia",
   "name": "julia",
   "version": "1.9.3"
  },
  "kernelspec": {
   "name": "julia-1.9",
   "display_name": "Julia 1.9.3",
   "language": "julia"
  }
 },
 "nbformat": 4
}
