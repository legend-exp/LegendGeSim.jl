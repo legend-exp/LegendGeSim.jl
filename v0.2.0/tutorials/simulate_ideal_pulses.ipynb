{
 "cells": [
  {
   "cell_type": "markdown",
   "source": [
    "# Simulate Ideal Pulses"
   ],
   "metadata": {}
  },
  {
   "cell_type": "markdown",
   "source": [
    "Here we will use an example `pet` file `csv` format from `LegendTestData` corresponding to the Public Inverted Coax."
   ],
   "metadata": {}
  },
  {
   "outputs": [],
   "cell_type": "code",
   "source": [
    "using LegendGeSim\n",
    "using Plots"
   ],
   "metadata": {},
   "execution_count": null
  },
  {
   "cell_type": "markdown",
   "source": [
    "## Get inputs from `legend-test-data`"
   ],
   "metadata": {}
  },
  {
   "outputs": [],
   "cell_type": "code",
   "source": [
    "using LegendTestData"
   ],
   "metadata": {},
   "execution_count": null
  },
  {
   "cell_type": "markdown",
   "source": [
    "### Detector metadata"
   ],
   "metadata": {}
  },
  {
   "outputs": [],
   "cell_type": "code",
   "source": [
    "ldsim_path = joinpath(legend_test_data_path(), \"data\", \"ldsim\")\n",
    "\n",
    "detector_name = \"invcoax-metadata\"\n",
    "detector_metadata_filename = joinpath(ldsim_path, detector_name*\".json\");"
   ],
   "metadata": {},
   "execution_count": null
  },
  {
   "cell_type": "markdown",
   "source": [
    "Alternatively, enter your own path to a real LEGEND detector JSON"
   ],
   "metadata": {}
  },
  {
   "cell_type": "markdown",
   "source": [
    "```julia\n",
    "detector_metadata_filename = \"path/to/V04545A.json\"\n",
    "```"
   ],
   "metadata": {}
  },
  {
   "cell_type": "markdown",
   "source": [
    "### PET input file"
   ],
   "metadata": {}
  },
  {
   "outputs": [],
   "cell_type": "code",
   "source": [
    "path_to_pet_file = joinpath(ldsim_path, \"single-invcoax-th228-geant4.csv\");"
   ],
   "metadata": {},
   "execution_count": null
  },
  {
   "cell_type": "markdown",
   "source": [
    "## Settings"
   ],
   "metadata": {}
  },
  {
   "cell_type": "markdown",
   "source": [
    "See manual on Field Simulation and Ideal Pulse Simulation for a detailed explanation of environment and simulation settings, as well as the noise model settings"
   ],
   "metadata": {}
  },
  {
   "outputs": [],
   "cell_type": "code",
   "source": [
    "environment_settings = Dict(\n",
    "    \"crystal_temperature_in_K\" => 77,\n",
    "    \"medium\" => \"vacuum\",\n",
    ");"
   ],
   "metadata": {},
   "execution_count": null
  },
  {
   "cell_type": "markdown",
   "source": [
    "Simple settings for point charge simulation with dummy constant impurity"
   ],
   "metadata": {}
  },
  {
   "outputs": [],
   "cell_type": "code",
   "source": [
    "simulation_settings = Dict(\n",
    "    \"method\" => \"SSD\",\n",
    "    \"cached_name\" => \"\", # a non-empty string will cache the simulation results\n",
    ");"
   ],
   "metadata": {},
   "execution_count": null
  },
  {
   "outputs": [],
   "cell_type": "code",
   "source": [
    "noise_model = Dict(\n",
    "    \"type\" => \"sim\"\n",
    ");\n",
    "\n",
    "# Simulate ideal pulses"
   ],
   "metadata": {},
   "execution_count": null
  },
  {
   "cell_type": "markdown",
   "source": [
    "Provide an optional argument `n_waveforms` to define the number of pulses to be simulated. Default: all pulses based on the input file"
   ],
   "metadata": {}
  },
  {
   "outputs": [],
   "cell_type": "code",
   "source": [
    "pss_table, pss_truth = LegendGeSim.simulate_pulses(detector_metadata_filename, path_to_pet_file, environment_settings, simulation_settings; n_waveforms=5);"
   ],
   "metadata": {},
   "execution_count": null
  },
  {
   "outputs": [],
   "cell_type": "code",
   "source": [
    "plot(pss_table.waveform, legend=false, linewidth=1.5)"
   ],
   "metadata": {},
   "execution_count": null
  },
  {
   "cell_type": "markdown",
   "source": [
    "The \"negative\" waveforms are the ones coming from the n+ contact, so they are symmetric. In fact, the length of our table is twice the amount of waveforms we simulated."
   ],
   "metadata": {}
  },
  {
   "outputs": [],
   "cell_type": "code",
   "source": [
    "length(pss_table)"
   ],
   "metadata": {},
   "execution_count": null
  },
  {
   "outputs": [],
   "cell_type": "code",
   "source": [
    "plot(pss_table.waveform[1:5], legend=false, title=\"only p+ contact pulses\")"
   ],
   "metadata": {},
   "execution_count": null
  },
  {
   "cell_type": "markdown",
   "source": [
    "## Save output to hdf5 file"
   ],
   "metadata": {}
  },
  {
   "cell_type": "markdown",
   "source": [
    "You can save simulated pulses in a file that can be used later."
   ],
   "metadata": {}
  },
  {
   "outputs": [],
   "cell_type": "code",
   "source": [
    "using LegendHDF5IO"
   ],
   "metadata": {},
   "execution_count": null
  },
  {
   "outputs": [],
   "cell_type": "code",
   "source": [
    "pss_name = \"cache/test_100wfs_pss.hdf5\"\n",
    "lh5open(pss_name, \"w\") do f\n",
    "    LegendHDF5IO.writedata(f.data_store, \"pss/pss\", pss_table[1:5])\n",
    "    LegendHDF5IO.writedata(f.data_store, \"pss/truth\", pss_truth[1:5])\n",
    "end"
   ],
   "metadata": {},
   "execution_count": null
  },
  {
   "cell_type": "markdown",
   "source": [
    "---\n",
    "\n",
    "*This notebook was generated using [Literate.jl](https://github.com/fredrikekre/Literate.jl).*"
   ],
   "metadata": {}
  }
 ],
 "nbformat_minor": 3,
 "metadata": {
  "language_info": {
   "file_extension": ".jl",
   "mimetype": "application/julia",
   "name": "julia",
   "version": "1.11.3"
  },
  "kernelspec": {
   "name": "julia-1.11",
   "display_name": "Julia 1.11.3",
   "language": "julia"
  }
 },
 "nbformat": 4
}
